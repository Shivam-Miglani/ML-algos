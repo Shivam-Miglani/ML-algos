{
 "cells": [
  {
   "cell_type": "markdown",
   "metadata": {},
   "source": [
    "# Anomaly Detection\n",
    "---\n",
    "\n",
    "- Unsupervised training\n",
    "- Supervised evaluation (CV and test)\n",
    "- Use **Gaussian Density Estimation to model $p(x)$ (probability of data)**, where $x=\\{x^{(1)}, x^{(2)}, .. , x^{(m)}\\}$ and $ x^{(i)} \\in \\mathbb{R}^n $\n",
    "\n",
    "```\n",
    "Example:\n",
    "Training examples: 10000\n",
    "Anomalies: 20\n",
    "---\n",
    "Divide like this:\n",
    "Train: 6000 to train p(x) in unsupervised fashion\n",
    "CV: 2000, 10 anomalies\n",
    "Test: 2000, 10 anomalies\n",
    "```\n",
    "--- \n",
    "### Density Estimation\n",
    "- We can model each feature with a **univariate-gaussian** and combine them by multiplying them all (assuming independence of features)\n",
    "    - Estimate parameters $(\\mu_i, \\sigma_i)$  of gaussians by MLE\n",
    "    - Requires feature engineering\n",
    "       - make non gaussian features gaussian\n",
    "    - Do error analysis on CV set\n",
    "    - Circular contours\n",
    "\n",
    "- We can model all features and their **correlations** as a **multivariate gaussian**\n",
    "    - Is a more general case of modeling individual gaussians\n",
    "    - Estimate parameters $(\\mu, \\Sigma)$ of multivariate gaussian (MLE)\n",
    "    - Cannot work with large number of features:\n",
    "       - if $m$ >> $n$, then use it\n",
    "       - if $m$ < $n$, mathematically not possible to invert the matrix\n",
    "       - if any features are linearly dependent (defined entirely by other features), matrix is non-invertible. Remove them\n",
    "    - elliptical contours possible\n",
    "\n",
    "---\n",
    "### Shapes of Gaussians\n",
    "Spherical, diagonal and full gaussian\n",
    "\n",
    "![multi-vartiate gaussian shapes](../../images/gaussian.jpeg)\n",
    "\n",
    "\n",
    "\n",
    "\n"
   ]
  },
  {
   "cell_type": "markdown",
   "metadata": {},
   "source": []
  }
 ],
 "metadata": {
  "kernelspec": {
   "display_name": "Python 3.10.4 64-bit",
   "language": "python",
   "name": "python3"
  },
  "language_info": {
   "name": "python",
   "version": "3.10.4"
  },
  "orig_nbformat": 4,
  "vscode": {
   "interpreter": {
    "hash": "3ad933181bd8a04b432d3370b9dc3b0662ad032c4dfaa4e4f1596c548f763858"
   }
  }
 },
 "nbformat": 4,
 "nbformat_minor": 2
}
