{
 "cells": [
  {
   "cell_type": "markdown",
   "metadata": {},
   "source": [
    "# Principal Component Analysis\n",
    "--- \n",
    "- Dimensionality Reduction Technique (Unsupervised)\n",
    "    - Used for **feature (data) compression** or **data visualization**\n",
    "\n",
    "- **Note 1:** Don't use PCA for the sake of reducing number of features. Try without PCA first.\n",
    "- **Note 2:** PCA is not regularization. It is not a good choice for reducing overfitting as it doesn't take into account $y$\n",
    "\n",
    "- PCA projects data of $d$ dimensions onto $k$ orthogonal dimensions (principal components) that retain large amount of variance in data\n",
    "- PCA minimizes the **projected error**\n",
    "  - the distance is orthogonal distance (which is different from linear regression)\n",
    "\n",
    "- We are given $X = {x^{(i)}}$, a $m x n$ dataset\n",
    "   - Step 1. Mean Normalization and Feature Scaling\n",
    "   - Step 2. U,S,V = SVD(X)\n",
    "     - **Use S to determine k** (the number of prinicpal components)\n",
    "        - $\\sum_{i=0}^{i=k}(S_{ii})/\\sum_{i=0}^{i=n}(S_{ii}))\\geq 0.99$, (retaining 99% variance of data)\n",
    "        - Use above formula to experiment with values of k\n",
    "   - Step 3. Use $U$ matrix from SVD to transform data\n",
    "     - $ z_i = U^Tx_i $\n",
    "\n",
    "- **Only fit mapping of PCA on training data**. Use the mapping on CV and test data\n",
    "\n",
    "- **Reconstruct data**:\n",
    "  - $ x_{i}^{'} = U z_i $, where $ x_{i}^{'} $ is approximate value of $ x_i$ projected onto the principal component axes\n",
    "\n"
   ]
  },
  {
   "cell_type": "markdown",
   "metadata": {},
   "source": []
  }
 ],
 "metadata": {
  "kernelspec": {
   "display_name": "Python 3.10.4 64-bit",
   "language": "python",
   "name": "python3"
  },
  "language_info": {
   "name": "python",
   "version": "3.10.4"
  },
  "orig_nbformat": 4,
  "vscode": {
   "interpreter": {
    "hash": "3ad933181bd8a04b432d3370b9dc3b0662ad032c4dfaa4e4f1596c548f763858"
   }
  }
 },
 "nbformat": 4,
 "nbformat_minor": 2
}
